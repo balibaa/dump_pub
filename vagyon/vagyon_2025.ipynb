{
 "cells": [
  {
   "cell_type": "code",
   "execution_count": 13,
   "id": "b5eb875e-eb70-4629-a0c5-bc77396d0f89",
   "metadata": {},
   "outputs": [],
   "source": [
    "from pypdf import PdfReader\n",
    "import pandas as pd"
   ]
  },
  {
   "cell_type": "code",
   "execution_count": 3,
   "id": "c3bd7fe9-1e13-4780-ac25-20796c8d8570",
   "metadata": {},
   "outputs": [],
   "source": [
    "# read the file you're working with\n",
    "reader = PdfReader('Képviselők_20250228.pdf')"
   ]
  },
  {
   "cell_type": "code",
   "execution_count": 4,
   "id": "043f0a10-1920-41c2-8961-b25219c7d77b",
   "metadata": {},
   "outputs": [
    {
     "name": "stdout",
     "output_type": "stream",
     "text": [
      "2258\n"
     ]
    }
   ],
   "source": [
    "print(len(reader.pages))"
   ]
  },
  {
   "cell_type": "code",
   "execution_count": 157,
   "id": "6621ddde-08e7-4304-b38f-d19af8fef20f",
   "metadata": {},
   "outputs": [
    {
     "name": "stdout",
     "output_type": "stream",
     "text": [
      "A) rész\n",
      "VAGYONI NYILATKOZAT\n",
      "I. Ingatlanok (kivéve a nyilatkozatot adó, valamint a vele közös háztartásban élő\n",
      "házastársa vagy élettársa és gyermeke(i) kizárólagos használatára fenntartott ingatlant)2\n",
      "1. Ingatlan:\n",
      "a) A település neve, ahol az ingatlan fekszik (Budapesten kerület is):\n",
      "Veszprém\n",
      "b) Az ingatlan területnagysága:\n",
      "72 m2\n",
      "c) Művelési ága (vagy a művelés alól kivett terület elnevezése):\n",
      "-----\n",
      "d) Az épület fő rendeltetés szerinti jellege (lakóház, üdülő, gazdasági épület stb.), az épület\n",
      "alapterülete:\n",
      "lakóház  77 m2\n",
      "e) Az ingatlan jogi jellege (családi ház, társasház, szövetkezeti ház, műemlék, műhely, üzlet,\n",
      "műterem, rendelő, garázs, bányatelek stb.):\n",
      "társasház\n",
      "f) A nyilatkozó jogállása (tulajdonos, állandó, illetve tartós használó, haszonélvező, bérlő stb.):\n",
      "tulajdonos\n",
      "g) Közös tulajdon esetén a tulajdoni hányad mértéke: 1/2\n",
      "h) A szerzés jogcíme, ideje (a jogviszony kezdete):   2019. november 7.\n",
      "2. Ingatlan:\n",
      "a) A település neve, ahol az ingatlan fekszik (Budapesten kerület is):\n",
      "Veszprém\n",
      "b) Az ingatlan területnagysága:\n",
      "593 m2\n",
      "c) Művelési ága (vagy a művelés alól kivett terület elnevezése):\n",
      "-----\n",
      "d) Az épület fő rendeltetés szerinti jellege (lakóház, üdülő, gazdasági épület stb.), az épület\n",
      "alapterülete:\n",
      "-----\n",
      "e) Az ingatlan jogi jellege (családi ház, társasház, szövetkezeti ház, műemlék, műhely, üzlet,\n",
      "műterem, rendelő, garázs, bányatelek stb.):\n",
      "telek\n",
      "f) A nyilatkozó jogállása (tulajdonos, állandó, illetve tartós használó, haszonélvező, bérlő stb.):\n",
      "tulajdonos\n",
      "g) Közös tulajdon esetén a tulajdoni hányad mértéke: 1/2\n",
      "h) A szerzés jogcíme, ideje (a jogviszony kezdete):   2022. július 30.\n",
      "2 Az ingatlan-nyilvántartási adatokkal megegyezően kell kitölteni! Nem kell feltüntetni azt az ingatlant, amelyet a\n",
      "nyilatkozatot adó, illetve családtagja életvitelszerűen vagy tartós jelleggel lakhatás céljából használ; ugyanakkor ez alapján\n",
      "legfeljebb egy ingatlan feltüntetése mellőzhető.\n",
      "- 2 -\n",
      "Vagyoni állapot: (2024.12.31.), A rendszer által, kereshető formában rögzített vagyonnyilatkozat.\n"
     ]
    }
   ],
   "source": [
    "# to inspect one page's text\n",
    "\n",
    "page = reader.pages[1]\n",
    "text = page.extract_text()\n",
    "print(text)"
   ]
  },
  {
   "cell_type": "code",
   "execution_count": 150,
   "id": "6256f757-07ec-4898-9ad5-03502be5014c",
   "metadata": {},
   "outputs": [],
   "source": [
    "# Define a dataframe to store your structured data\n",
    "\n",
    "vny_2025 = pd.DataFrame(columns = ['oldal', 'sor', 'PID', 'name', 'ing_sz', 'ingatlan', 'terület', 'művelési ág', 'rendeltetés', 'alapterület', 'jogi jelleg', \n",
    "                                  'jogállás', 'tulajdoni hányad', 'jogviszony'])\n"
   ]
  },
  {
   "cell_type": "code",
   "execution_count": 154,
   "id": "8391f65b-9749-4e61-b4b0-a8ade61ef950",
   "metadata": {},
   "outputs": [],
   "source": [
    "# to track which lines to write in\n",
    "counter = 0\n",
    "\n",
    "# Person ID - to track individuals\n",
    "pid = int(0)\n",
    "\n",
    "\n",
    "for i in range(len(reader.pages)):\n",
    "\n",
    "    page = reader.pages[i]\n",
    "    text = page.extract_text()\n",
    "    t_lines = list(text.split('\\n'))\n",
    "    \n",
    "    # to reach back and forward on the page if needed\n",
    "    linecount = 0\n",
    "    \n",
    "    for line in t_lines:\n",
    "        linecount += 1\n",
    "        if '2. A nyilatkozatot adó neve:' in line:\n",
    "            counter += 1\n",
    "            pid += 1\n",
    "            ing_sz = 0\n",
    "            name = str(line.removeprefix('2. A nyilatkozatot adó neve: ').strip())\n",
    "            vny_2025.loc[counter, 'name'] = name\n",
    "            vny_2025.loc[counter, 'PID'] = int(pid)\n",
    "            vny_2025.loc[counter, 'oldal'] = int(i+1)\n",
    "            vny_2025.loc[counter, 'sor'] = int(linecount)\n",
    "            \n",
    "        if 'a) A település neve, ahol az ingatlan fekszik' in line:\n",
    "            ing_sz += 1\n",
    "            ing = t_lines[linecount]\n",
    "            if ing_sz == 1:\n",
    "                vny_2025.loc[counter, 'ingatlan'] = ing\n",
    "                vny_2025.loc[counter, 'ing_sz'] = ing_sz\n",
    "                vny_2025.loc[counter, 'oldal'] = int(i+1)\n",
    "                vny_2025.loc[counter, 'sor'] = int(linecount)\n",
    "                \n",
    "            elif ing_sz > 1:\n",
    "                counter += 1\n",
    "                vny_2025.loc[counter, 'name'] = name\n",
    "                vny_2025.loc[counter, 'PID'] = int(pid)\n",
    "                vny_2025.loc[counter, 'ingatlan'] = ing\n",
    "                vny_2025.loc[counter, 'ing_sz'] = ing_sz\n",
    "                vny_2025.loc[counter, 'oldal'] = int(i+1)\n",
    "                vny_2025.loc[counter, 'sor'] = int(linecount)\n",
    "                \n",
    "                \n",
    "        if 'b) Az ingatlan területnagysága:' in line:\n",
    "            nm = t_lines[linecount]\n",
    "            vny_2025.loc[counter, 'terület'] = nm\n",
    "            vny_2025.loc[counter, 'oldal'] = int(i+1)\n",
    "            vny_2025.loc[counter, 'sor'] = int(linecount)\n",
    "\n",
    "        if 'c) Művelési ága (vagy a művelés alól' in line:\n",
    "            mua = t_lines[linecount]\n",
    "            vny_2025.loc[counter, 'művelési ág'] = mua\n",
    "            vny_2025.loc[counter, 'oldal'] = int(i+1)\n",
    "            vny_2025.loc[counter, 'sor'] = int(linecount)\n",
    "            \n",
    "        if 'd) Az épület fő rendeltetés szerinti jellege' in line:\n",
    "            rend = t_lines[linecount+1]\n",
    "            if '-' in rend:\n",
    "                continue\n",
    "            else:\n",
    "                rend = rend.split()\n",
    "            vny_2025.loc[counter, 'rendeltetés'] = rend[0]\n",
    "            try:\n",
    "                vny_2025.loc[counter, 'alapterület'] = rend[1]\n",
    "            except:\n",
    "                vny_2025.loc[counter, 'rendeltetés'] = ''\n",
    "            vny_2025.loc[counter, 'oldal'] = int(i+1)\n",
    "            vny_2025.loc[counter, 'sor'] = int(linecount)\n",
    "\n",
    "        if 'e) Az ingatlan jogi jellege' in line:\n",
    "            jj = t_lines[linecount+1]\n",
    "            vny_2025.loc[counter, 'jogi jelleg'] = jj\n",
    "            vny_2025.loc[counter, 'oldal'] = int(i+1)\n",
    "            vny_2025.loc[counter, 'sor'] = int(linecount)\n",
    "\n",
    "        if 'f) A nyilatkozó jogállása (tulajdonos' in line:\n",
    "            jog = t_lines[linecount]\n",
    "            vny_2025.loc[counter, 'jogállás'] = jog\n",
    "            vny_2025.loc[counter, 'oldal'] = int(i+1)\n",
    "            vny_2025.loc[counter, 'sor'] = int(linecount)\n",
    "\n",
    "        if 'g) Közös tulajdon esetén a tulajdoni hányad' in line:\n",
    "            tulh = str(line.removeprefix('g) Közös tulajdon esetén a tulajdoni hányad mértéke: '))\n",
    "            vny_2025.loc[counter, 'tulajdoni hányad'] = tulh\n",
    "            vny_2025.loc[counter, 'oldal'] = int(i+1)\n",
    "            vny_2025.loc[counter, 'sor'] = int(linecount)\n",
    "\n",
    "        if 'h) A szerzés jogcíme, ideje (a jogviszony' in line:\n",
    "            jogvisz = str(line.removeprefix('h) A szerzés jogcíme, ideje (a jogviszony kezdete): '))\n",
    "            vny_2025.loc[counter, 'jogviszony'] = jogvisz\n",
    "            vny_2025.loc[counter, 'oldal'] = int(i+1)\n",
    "            vny_2025.loc[counter, 'sor'] = int(linecount)"
   ]
  },
  {
   "cell_type": "code",
   "execution_count": 156,
   "id": "3463d4e1-0229-4f0b-8cd4-c6f866e95148",
   "metadata": {},
   "outputs": [],
   "source": [
    "# save the file\n",
    "vny_2025.to_csv('2025_sorted.csv', index = False)"
   ]
  }
 ],
 "metadata": {
  "kernelspec": {
   "display_name": "Python 3 (ipykernel)",
   "language": "python",
   "name": "python3"
  },
  "language_info": {
   "codemirror_mode": {
    "name": "ipython",
    "version": 3
   },
   "file_extension": ".py",
   "mimetype": "text/x-python",
   "name": "python",
   "nbconvert_exporter": "python",
   "pygments_lexer": "ipython3",
   "version": "3.12.5"
  }
 },
 "nbformat": 4,
 "nbformat_minor": 5
}
