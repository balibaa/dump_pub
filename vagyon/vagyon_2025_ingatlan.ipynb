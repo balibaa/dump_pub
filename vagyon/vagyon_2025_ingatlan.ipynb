{
 "cells": [
  {
   "cell_type": "code",
   "execution_count": 1,
   "id": "b5eb875e-eb70-4629-a0c5-bc77396d0f89",
   "metadata": {},
   "outputs": [],
   "source": [
    "from pypdf import PdfReader\n",
    "import pandas as pd"
   ]
  },
  {
   "cell_type": "code",
   "execution_count": 2,
   "id": "c3bd7fe9-1e13-4780-ac25-20796c8d8570",
   "metadata": {},
   "outputs": [],
   "source": [
    "# read the file you're working with\n",
    "reader = PdfReader('Képviselők_20250228.pdf')"
   ]
  },
  {
   "cell_type": "code",
   "execution_count": 3,
   "id": "043f0a10-1920-41c2-8961-b25219c7d77b",
   "metadata": {},
   "outputs": [
    {
     "name": "stdout",
     "output_type": "stream",
     "text": [
      "2258\n"
     ]
    }
   ],
   "source": [
    "print(len(reader.pages))"
   ]
  },
  {
   "cell_type": "code",
   "execution_count": 4,
   "id": "6621ddde-08e7-4304-b38f-d19af8fef20f",
   "metadata": {},
   "outputs": [
    {
     "name": "stdout",
     "output_type": "stream",
     "text": [
      "II. Nagy értékű3 ingóságok\n",
      "1. Gépjárművek:\n",
      "a) személygépkocsi: Honda Accord Type-S 2.4 i típus\n",
      "    a szerzés ideje, jogcíme: 2014. 04. 28.,  adásvétel\n",
      "b) tehergépjármű, autóbusz: \"-\" típus\n",
      "    a szerzés ideje, jogcíme: -----\n",
      "c) motorkerékpár: \"-\" típus\n",
      "    a szerzés ideje, jogcíme: -----\n",
      "2. Vízi vagy légi jármű:\n",
      "jellege: \"-\"\n",
      "    típusa: -----\n",
      "    a szerzés ideje, jogcíme: -----\n",
      "3. Védett műalkotás, védett gyűjtemény:\n",
      "a) egyedi alkotások:\n",
      "\"-\" megnevezés ----- db\n",
      "a szerzés ideje, jogcíme: -----\n",
      "b) gyűjtemény:\n",
      "\"-\" megnevezés ----- db\n",
      "a szerzés ideje, jogcíme: -----\n",
      "4. Egyéb ingóság:\n",
      "megnevezés: \"-\"\n",
      "    a szerzés ideje, jogcíme: -----\n",
      "5. Értékpapírban elhelyezett megtakarítás vagy egyéb befektetés (részvény, kötvény,\n",
      "részjegy, kincstárjegy, vagyonjegy, részesedés magántőkealapban, biztosítás stb.):\n",
      "megnevezés: \"-\"\n",
      "névérték, biztosítási összeg: -----\n",
      "6. Takarékbetétben elhelyezett megtakarítás4: 12.164.448.-Ft Ft\n",
      "3 Nagy értékűnek minősül az ingóság, ha értéke eléri az 5 millió forintot.\n",
      "4 Külföldi pénznemben elhelyezett megtakarítás esetén a megtakarítás összegét a vagyonnyilatkozat kitöltésének napján\n",
      "aktuális, a Magyar Nemzeti Bank hivatalos devizaárfolyamán szükséges forintértéken megadni, és az átváltási árfolyamot\n",
      "megjelölni.\n",
      "- 16 -\n",
      "Vagyoni állapot: (2024.12.31.), A rendszer által, kereshető formában rögzített vagyonnyilatkozat.\n"
     ]
    }
   ],
   "source": [
    "# to inspect one page's text\n",
    "\n",
    "page = reader.pages[53]\n",
    "text = page.extract_text()\n",
    "print(text)\n",
    "t_lines = list(text.split('\\n'))"
   ]
  },
  {
   "cell_type": "code",
   "execution_count": 20,
   "id": "6256f757-07ec-4898-9ad5-03502be5014c",
   "metadata": {},
   "outputs": [
    {
     "data": {
      "text/plain": [
       "False"
      ]
     },
     "execution_count": 20,
     "metadata": {},
     "output_type": "execute_result"
    }
   ],
   "source": [
    "# inspect one line\n",
    "\n",
    "\n",
    "'típus' in t_lines[5].strip()\n"
   ]
  },
  {
   "cell_type": "code",
   "execution_count": 7,
   "id": "8391f65b-9749-4e61-b4b0-a8ade61ef950",
   "metadata": {},
   "outputs": [],
   "source": [
    "#INGATLAN RAW DATA\n",
    "\n",
    "# Define a dataframe to store your structured data\n",
    "\n",
    "vny_2025 = pd.DataFrame(columns = ['oldal', 'sor', 'PID', 'name', 'ing_sz', 'ingatlan', 'terület', 'művelési ág', 'rendeltetés, alapterület', 'jogi jelleg', \n",
    "                                  'jogállás', 'tulajdoni hányad', 'jogviszony'])\n",
    "\n",
    "# to track which lines to write in\n",
    "counter = 0\n",
    "\n",
    "# Person ID - to track individuals\n",
    "pid = int(0)\n",
    "\n",
    "\n",
    "for i in range(len(reader.pages)):\n",
    "\n",
    "    page = reader.pages[i]\n",
    "    text = page.extract_text()\n",
    "    t_lines = list(text.split('\\n'))\n",
    "    \n",
    "    # to reach back and forward on the page if needed\n",
    "    linecount = 0\n",
    "    \n",
    "    for line in t_lines:\n",
    "        linecount += 1\n",
    "        if '2. A nyilatkozatot adó neve:' in line:\n",
    "            counter += 1\n",
    "            pid += 1\n",
    "            ing_sz = 0\n",
    "            name = str(line.removeprefix('2. A nyilatkozatot adó neve: ').strip())\n",
    "            \n",
    "        if 'a) A település neve, ahol az ingatlan fekszik' in line:\n",
    "            ing_sz += 1\n",
    "            ing = t_lines[linecount]\n",
    "            if ing_sz == 1:\n",
    "                vny_2025.loc[counter, 'name'] = name\n",
    "                vny_2025.loc[counter, 'PID'] = int(pid)\n",
    "                vny_2025.loc[counter, 'ingatlan'] = ing\n",
    "                vny_2025.loc[counter, 'ing_sz'] = ing_sz\n",
    "                vny_2025.loc[counter, 'oldal'] = int(i+1)\n",
    "                vny_2025.loc[counter, 'sor'] = int(linecount)\n",
    "                \n",
    "            elif ing_sz > 1:\n",
    "                counter += 1\n",
    "                vny_2025.loc[counter, 'name'] = name\n",
    "                vny_2025.loc[counter, 'PID'] = int(pid)\n",
    "                vny_2025.loc[counter, 'ingatlan'] = ing\n",
    "                vny_2025.loc[counter, 'ing_sz'] = ing_sz\n",
    "                vny_2025.loc[counter, 'oldal'] = int(i+1)\n",
    "                vny_2025.loc[counter, 'sor'] = int(linecount)\n",
    "                \n",
    "                \n",
    "        if 'b) Az ingatlan területnagysága:' in line:\n",
    "            nm = t_lines[linecount]\n",
    "            vny_2025.loc[counter, 'terület'] = nm\n",
    "\n",
    "        if 'c) Művelési ága (vagy a művelés alól' in line:\n",
    "            mua = t_lines[linecount]\n",
    "            vny_2025.loc[counter, 'művelési ág'] = mua\n",
    "            \n",
    "        if 'd) Az épület fő rendeltetés szerinti jellege' in line:\n",
    "            rend = t_lines[linecount+1]\n",
    "            vny_2025.loc[counter, 'rendeltetés, alapterület'] = rend\n",
    "            \n",
    "        if 'e) Az ingatlan jogi jellege' in line:\n",
    "            jj = t_lines[linecount+1]\n",
    "            vny_2025.loc[counter, 'jogi jelleg'] = jj\n",
    "\n",
    "        if 'f) A nyilatkozó jogállása (tulajdonos' in line:\n",
    "            jog = t_lines[linecount]\n",
    "            vny_2025.loc[counter, 'jogállás'] = jog\n",
    "\n",
    "        if 'g) Közös tulajdon esetén a tulajdoni hányad' in line:\n",
    "            tulh = str(line.removeprefix('g) Közös tulajdon esetén a tulajdoni hányad mértéke: '))\n",
    "            vny_2025.loc[counter, 'tulajdoni hányad'] = tulh\n",
    "\n",
    "        if 'h) A szerzés jogcíme, ideje (a jogviszony' in line:\n",
    "            jogvisz = str(line.removeprefix('h) A szerzés jogcíme, ideje (a jogviszony kezdete): '))\n",
    "            vny_2025.loc[counter, 'jogviszony'] = jogvisz"
   ]
  },
  {
   "cell_type": "code",
   "execution_count": 18,
   "id": "e6927d6c-de0a-4892-a506-b923f7b4084a",
   "metadata": {},
   "outputs": [],
   "source": [
    "# letters in these columns will be converted to uppercase\n",
    "\n",
    "to_uppercase = ['name', 'ingatlan', 'terület', 'művelési ág', 'rendeltetés, alapterület', 'jogi jelleg', \n",
    "                                  'jogállás', 'tulajdoni hányad', 'jogviszony']\n",
    "for c in to_uppercase:\n",
    "    vny_2025[c] = vny_2025[c].str.upper()"
   ]
  },
  {
   "cell_type": "code",
   "execution_count": 21,
   "id": "3463d4e1-0229-4f0b-8cd4-c6f866e95148",
   "metadata": {},
   "outputs": [],
   "source": [
    "# save the file\n",
    "vny_2025.to_csv('2025_ingatlanz.csv', index = False)"
   ]
  },
  {
   "cell_type": "code",
   "execution_count": null,
   "id": "94cb4125-a61b-436b-9e01-4bb80ce9553a",
   "metadata": {},
   "outputs": [],
   "source": []
  }
 ],
 "metadata": {
  "kernelspec": {
   "display_name": "Python 3 (ipykernel)",
   "language": "python",
   "name": "python3"
  },
  "language_info": {
   "codemirror_mode": {
    "name": "ipython",
    "version": 3
   },
   "file_extension": ".py",
   "mimetype": "text/x-python",
   "name": "python",
   "nbconvert_exporter": "python",
   "pygments_lexer": "ipython3",
   "version": "3.12.5"
  }
 },
 "nbformat": 4,
 "nbformat_minor": 5
}
